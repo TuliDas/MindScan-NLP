{
  "nbformat": 4,
  "nbformat_minor": 0,
  "metadata": {
    "colab": {
      "provenance": []
    },
    "kernelspec": {
      "name": "python3",
      "display_name": "Python 3"
    },
    "language_info": {
      "name": "python"
    }
  },
  "cells": [
    {
      "cell_type": "code",
      "execution_count": null,
      "metadata": {
        "id": "rkjiM0Zs0GKy"
      },
      "outputs": [],
      "source": [
        "import pandas as pd"
      ]
    },
    {
      "cell_type": "code",
      "source": [
        "df = pd.read_csv('/content/reddit_mental_health_dataset.csv')"
      ],
      "metadata": {
        "id": "6ai7a1oo0KBp"
      },
      "execution_count": null,
      "outputs": []
    },
    {
      "cell_type": "code",
      "source": [
        "# Classes I want\n",
        "classes_hf = [\"PTSD\", \"OCD\", \"Depression\", \"ADHD\"]\n",
        "classes_reddit = [\"Addiction\", \"Anxiety\", \"Normal\", \"Suicidal\"]\n",
        "\n",
        "# Sample 5 rows per class\n",
        "df_hf = df[df[\"label\"].isin(classes_hf)].groupby(\"label\").apply(lambda x: x.sample(5, random_state=42)).reset_index(drop=True)\n",
        "df_reddit = df[df[\"label\"].isin(classes_reddit)].groupby(\"label\").apply(lambda x: x.sample(5, random_state=42)).reset_index(drop=True)\n",
        "\n"
      ],
      "metadata": {
        "id": "w8WdzKN111Th"
      },
      "execution_count": null,
      "outputs": []
    },
    {
      "cell_type": "code",
      "source": [
        "df_hf = df_hf[['title','subreddit','body','label']]\n",
        "df_reddit = df_reddit[['title','subreddit','body','label']]\n",
        "\n"
      ],
      "metadata": {
        "id": "3_QF0Roc0UXB"
      },
      "execution_count": null,
      "outputs": []
    },
    {
      "cell_type": "code",
      "source": [
        "df_hf"
      ],
      "metadata": {
        "id": "c0ny943t26C7"
      },
      "execution_count": null,
      "outputs": []
    },
    {
      "cell_type": "code",
      "source": [
        "df_reddit"
      ],
      "metadata": {
        "id": "3mdHx5Q73AkS"
      },
      "execution_count": null,
      "outputs": []
    },
    {
      "cell_type": "code",
      "source": [
        "df_hf.to_csv('hf_data.csv', index=False)\n",
        "df_reddit.to_csv('reddit_data.csv', index=False)"
      ],
      "metadata": {
        "id": "ZCUe3Qen3Q0n"
      },
      "execution_count": null,
      "outputs": []
    }
  ]
}