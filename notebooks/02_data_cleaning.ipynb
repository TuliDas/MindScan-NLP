{
  "nbformat": 4,
  "nbformat_minor": 0,
  "metadata": {
    "colab": {
      "provenance": []
    },
    "kernelspec": {
      "name": "python3",
      "display_name": "Python 3"
    },
    "language_info": {
      "name": "python"
    }
  },
  "cells": [
    {
      "cell_type": "code",
      "source": [
        "!pip install contractions\n"
      ],
      "metadata": {
        "id": "Qg5wYEj3ztuK"
      },
      "execution_count": null,
      "outputs": []
    },
    {
      "cell_type": "code",
      "execution_count": null,
      "metadata": {
        "id": "6KGqy3mvMq-p"
      },
      "outputs": [],
      "source": [
        "import pandas as pd\n",
        "import copy\n",
        "\n",
        "import re\n",
        "import spacy\n",
        "import contractions\n",
        "nlp = spacy.load(\"en_core_web_sm\", disable=[\"parser\", \"ner\"])"
      ]
    },
    {
      "cell_type": "code",
      "source": [
        "df = pd.read_csv('/content/reddit_mental_health_dataset.csv')\n",
        "df"
      ],
      "metadata": {
        "id": "VAgs9oG4PJbF"
      },
      "execution_count": null,
      "outputs": []
    },
    {
      "cell_type": "markdown",
      "source": [
        "#### **Output :** Dataset Sample (post_id removed)\n",
        "#####Shape: `15913 rows × 4 columns`  \n",
        "---\n",
        "\n",
        "##### Schema\n",
        "| Column     | Description                                         |\n",
        "|------------|-----------------------------------------------------|\n",
        "| subreddit  | Source subreddit (e.g., ADHD, SuicideWatch)         |\n",
        "| title      | Post title                                          |\n",
        "| body       | Post body text                                      |\n",
        "| label      | Class label (one of 8 classes, including `Normal`)  |\n",
        "\n",
        "---\n",
        "\n",
        "#### Sample Rows\n",
        "\n",
        "| subreddit      | title                                         | body                                                         | label     |\n",
        "|----------------|-----------------------------------------------|--------------------------------------------------------------|-----------|\n",
        "| ADHD           | Small Success: I finally filled the ice cube… | I prefer my coffee iced, even in the Winter, b…              | ADHD      |\n",
        "| ADHD           | Adderall shivers/shakiness                    | Has anybody experienced shivering/shaking late…              | ADHD      |\n",
        "| ADHD           | Could my constant mental exhaustion be rela…  | As of late I've been feeling super mentally ex…              | ADHD      |\n",
        "| ADHD           | I’ve been getting into a consistent nightt…   | I can’t be the only one who feels this way I l…              | ADHD      |\n",
        "| SuicideWatch   | Why cant i leave                              | I know a lot of people call suicide selfish an…              | Suicidal  |\n"
      ],
      "metadata": {
        "id": "jqe1N5dCQCzS"
      }
    },
    {
      "cell_type": "code",
      "source": [
        "df['title'] = df['title'].fillna('')\n",
        "df['body'] = df['body'].fillna('')\n",
        "df['text'] = df['title'] + \" \" + df['body']\n",
        "df = df[['text', 'label']]\n",
        "df"
      ],
      "metadata": {
        "id": "P0hS0-0bPSvT"
      },
      "execution_count": null,
      "outputs": []
    },
    {
      "cell_type": "markdown",
      "source": [
        "# **Text Cleaning Pipeline**\n",
        "We design **two cleaning modes** depending on the model family.\n",
        "\n",
        "---\n",
        "\n",
        "## Common Cleaning (applied to all models)\n",
        "- Lowercase text\n",
        "- Remove URLs (`http...`)  \n",
        "- Remove Reddit mentions (`u/username`) and subreddit refs (`r/subreddit`)  \n",
        "- Remove HTML tags (`<br>`, `<p>`)  \n",
        "- Normalize whitespace  \n",
        "\n",
        "---\n",
        "\n",
        "## ML Mode (`mode=\"ml\"`)\n",
        "For **Logistic Regression, SVM, RandomForest, BiLSTM** (TF-IDF / embeddings):\n",
        "- **ML family → aggressive normalization**    \n",
        "- Expand contractions  \n",
        "- Remove non-alphabetic characters  \n",
        "- Normalize elongated words\n",
        "- Expand abbraviations\n",
        "- Lemmatize tokens and remove stopwords (but keep negations)  \n",
        "  \n",
        "---\n",
        "\n",
        "## BERT Mode (`mode=\"bert\"`)\n",
        "For **Transformers (BERT, DistilBERT, etc.)**:  \n",
        "- **BERT family → minimal cleaning**  \n",
        "- keep punctuation, emojis, and stopwords  \n",
        "- Apply only *common cleaning* (remove noise, not meaning)  \n",
        "\n",
        "---\n"
      ],
      "metadata": {
        "id": "fhOoLBEXouqe"
      }
    },
    {
      "cell_type": "code",
      "source": [
        "abbr_dict = {\n",
        "    \"idk\": \"i do not know\",\n",
        "    \"tbh\": \"to be honest\",\n",
        "    \"smh\": \"shaking my head\",\n",
        "    \"fml\": \"feeling very bad\",\n",
        "    \"imo\": \"in my opinion\",\n",
        "    \"ikr\": \"i know right\",\n",
        "    \"btw\": \"by the way\",\n",
        "    \"lol\": \"laughing out loud\",\n",
        "    \"omg\": \"oh my god\",\n",
        "    \"brb\": \"be right back\",\n",
        "    \"lmao\": \"laughing a lot\",\n",
        "    \"np\": \"no problem\",\n",
        "    \"fyi\": \"for your information\"\n",
        "}\n",
        "\n",
        "# Define negations to keep\n",
        "negations = {\"no\", \"not\", \"never\", \"nor\"}"
      ],
      "metadata": {
        "id": "aH_KLMlr0r7R"
      },
      "execution_count": null,
      "outputs": []
    },
    {
      "cell_type": "code",
      "source": [
        "def clean_text(text, mode):\n",
        "  text = str(text)\n",
        "\n",
        "  # Common cleaning for all models\n",
        "  text = text.lower()                            # to lowercase\n",
        "  text = re.sub(r'http\\S+', ' ',text)            # Remove URLs\n",
        "  text = re.sub(r'<.*?>', ' ', text)             # Remove HTML tags , reddit posts usually dont have any\n",
        "  text = re.sub(r'u/[A-Za-z0-9_-]+' ,' ', text)  # Remove reddits mentions\n",
        "  text = re.sub(r'r/[A-Za-z0-9_-]+' ,' ', text)  # Remove subreddits Ref\n",
        "  text = re.sub(r'\\*\\*|\\*|__|~~', ' ', text)     # Remove markdown formating\n",
        "  text = re.sub(r'\\s+', ' ', text).strip()       # Normalize Whitespace\n",
        "\n",
        "  if mode=='bert':\n",
        "    # minimal cleaning done\n",
        "    return text\n",
        "\n",
        "  elif mode =='ml' :\n",
        "    # need extra normalization\n",
        "    text = contractions.fix(text)                  # \"I don't like this\" → \"I do not like this\"\n",
        "    text = re.sub(r'[^a-z\\s]', ' ', text)          # remove punctuations, keep words only\n",
        "    text = re.sub(r'(.)\\1{2,}', r'\\1\\1', text)     # Normalize elongated words (sooo → so)\n",
        "\n",
        "    # compile regex pattern into a pattern object\n",
        "    # ex : r'\\b(idk|tbh|...)\\b'\n",
        "    pattern = re.compile(r'\\b(' + '|'.join(abbr_dict.keys()) + r')\\b')\n",
        "    text = pattern.sub(lambda x: abbr_dict[x.group()], text)      # Expand abbreviations\n",
        "\n",
        "    doc = nlp(text)\n",
        "    filtered_tokens = []\n",
        "    for token in doc:\n",
        "      if not token.is_stop or token.text in negations:\n",
        "        filtered_tokens.append(token.lemma_) # remove stopwords and lemmatization\n",
        "    text = \" \".join(filtered_tokens)\n",
        "\n",
        "    return text\n",
        "\n",
        "  else:\n",
        "    raise ValueError(\"Mode must be 'ml' or 'bert' \")\n"
      ],
      "metadata": {
        "id": "IQ3yNW4bRmxJ"
      },
      "execution_count": null,
      "outputs": []
    },
    {
      "cell_type": "code",
      "source": [
        "# Create copies of the original DataFrame\n",
        "df_cleaned_ml = df.copy()\n",
        "df_cleaned_bert = df.copy()\n",
        "\n",
        "# Apply text cleaning to the 'text' column\n",
        "df_cleaned_ml['text'] = df_cleaned_ml['text'].apply(lambda x: clean_text(x, mode='ml'))\n",
        "df_cleaned_bert['text'] = df_cleaned_bert['text'].apply(lambda x: clean_text(x, mode='bert'))"
      ],
      "metadata": {
        "id": "fDharznHpT1b"
      },
      "execution_count": null,
      "outputs": []
    },
    {
      "cell_type": "code",
      "source": [
        "df_cleaned_ml"
      ],
      "metadata": {
        "id": "4bIhUzrKraLt"
      },
      "execution_count": null,
      "outputs": []
    },
    {
      "cell_type": "markdown",
      "source": [
        "##### **Output:** df_cleaned_ml dataframe\n",
        "\n",
        "|   | text                                                                 | label     |\n",
        "|---|----------------------------------------------------------------------|-----------|\n",
        "| 0 | small success finally fill ice cube tray pre...                      | ADHD      |\n",
        "| 1 | adderall shiver shakiness anybody experience s...                    | ADHD      |\n",
        "| 2 | constant mental exhaustion relate undereate ...                      | ADHD      |\n",
        "| 3 | get consistent nighttime route finally hate no...                    | ADHD      |\n",
        "| 4 | actual lifestyle advice tired post subreddit s...                    | ADHD      |\n",
        "| … | …                                                                    | …         |\n",
        "| 15908 | not leave know lot people suicide selfish hone...                 | Suicidal  |\n",
        "| 15909 | ahh ahhim freaking world help                                      | Suicidal  |\n",
        "| 15910 | lose girlfriend year lose yesterday hang b...                      | Suicidal  |\n",
        "| 15911 | lose friend trigger friend recently move text ...                  | Suicidal  |\n",
        "| 15912 | m feel lose feel discouraged tired comp...                         | Suicidal  |\n",
        "\n",
        "15913 rows × 2 columns\n"
      ],
      "metadata": {
        "id": "Jf7pDdXKRGSG"
      }
    },
    {
      "cell_type": "code",
      "source": [
        "df_cleaned_bert"
      ],
      "metadata": {
        "id": "Z-H7gViOrhPP"
      },
      "execution_count": null,
      "outputs": []
    },
    {
      "cell_type": "markdown",
      "source": [
        "#### **Output:** df_cleaned_bert dataframe\n",
        "\n",
        "|   | text                                                                 | label     |\n",
        "|---|----------------------------------------------------------------------|-----------|\n",
        "| 0 | small success: i finally filled the ice cube t...                    | ADHD      |\n",
        "| 1 | adderall shivers/shakiness has anybody experie...                    | ADHD      |\n",
        "| 2 | could my constant mental exhaustion be related...                    | ADHD      |\n",
        "| 3 | i’ve been getting into a consistent nighttime ...                    | ADHD      |\n",
        "| 4 | actual lifestyle advice i’m so tired of every ...                    | ADHD      |\n",
        "| … | …                                                                    | …         |\n",
        "| 15908 | why cant i leave i know a lot of people call s...               | Suicidal  |\n",
        "| 15909 | ahhhhhhhhhhhhhhhhhhhh ahhhhhhhhhim so freaking...               | Suicidal  |\n",
        "| 15910 | just lost my girlfriend of almost 4 years i lo...                | Suicidal  |\n",
        "| 15911 | might lose a friend and it’s triggering me my ...                | Suicidal  |\n",
        "| 15912 | 30m feeling lost i feel discouraged, tired, an...                | Suicidal  |\n",
        "\n",
        "15913 rows × 2 columns\n"
      ],
      "metadata": {
        "id": "_w6fjrT2Rx6X"
      }
    },
    {
      "cell_type": "markdown",
      "source": [
        "## **Dataset Cleaning Info**\n",
        "- Dataset: Reddit Mental Health Posts\n",
        "- Cleaning Date: 09-16-2025\n",
        "- Cleaning Modes:\n",
        "  - **BERT**: minimal cleaning (URLs, HTML, mentions,ref, markdown, whitespace).\n",
        "  - **ML**: lowercase, remove punctuation, stopwords, lemmatization.\n",
        "- Columns: [text, label]\n"
      ],
      "metadata": {
        "id": "bKshR-CCs0AT"
      }
    },
    {
      "cell_type": "code",
      "source": [
        "df_cleaned_ml.to_csv('reddit_cleaned_ml.csv', index=False)\n",
        "df_cleaned_bert.to_csv('reddit_cleaned_bert.csv', index=False)"
      ],
      "metadata": {
        "id": "1XFvlEWdpy-P"
      },
      "execution_count": null,
      "outputs": []
    }
  ]
}