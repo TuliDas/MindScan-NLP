{
  "nbformat": 4,
  "nbformat_minor": 0,
  "metadata": {
    "colab": {
      "provenance": []
    },
    "kernelspec": {
      "name": "python3",
      "display_name": "Python 3"
    },
    "language_info": {
      "name": "python"
    }
  },
  "cells": [
    {
      "cell_type": "code",
      "source": [
        "import pandas as pd\n",
        "from datasets import load_dataset"
      ],
      "metadata": {
        "id": "ZcN8TA7ic3Ja"
      },
      "execution_count": null,
      "outputs": []
    },
    {
      "cell_type": "code",
      "source": [
        "# Parameters\n",
        "TARGET_PER_LABEL = 2000\n",
        "MIN_LENGTH = 100             # ignore very short posts\n",
        "MAX_LENGTH = 800             # max characters per post"
      ],
      "metadata": {
        "id": "JUUEhMW-pSPr"
      },
      "execution_count": null,
      "outputs": []
    },
    {
      "cell_type": "markdown",
      "source": [
        "# Part 1 :\n",
        "Dataset : HuggingFace [reddit_mental_health_posts](https://huggingface.co/datasets/solomonk/reddit_mental_health_posts/viewer/default/train?f%5Bsubreddit%5D%5Bvalue%5D=%27aspergers%27&views%5B%5D=train)"
      ],
      "metadata": {
        "id": "PVG9FOIglC40"
      }
    },
    {
      "cell_type": "code",
      "execution_count": null,
      "metadata": {
        "id": "eAMFqFaSLkgu"
      },
      "outputs": [],
      "source": [
        "data_hf = load_dataset(\"solomonk/reddit_mental_health_posts\")"
      ]
    },
    {
      "cell_type": "code",
      "source": [
        "data_hf"
      ],
      "metadata": {
        "id": "dSkNin6aML0u"
      },
      "execution_count": null,
      "outputs": []
    },
    {
      "cell_type": "code",
      "source": [
        "df = data_hf['train'].to_pandas()\n",
        "df"
      ],
      "metadata": {
        "id": "mUuZzECjNR52"
      },
      "execution_count": null,
      "outputs": []
    },
    {
      "cell_type": "code",
      "source": [
        "df = df.rename(columns = {\"id\" : \"post_id\"})\n",
        "df = df[['post_id', 'subreddit', 'title', 'body']]\n",
        "df"
      ],
      "metadata": {
        "id": "S2VdpZJ4N6cm"
      },
      "execution_count": null,
      "outputs": []
    },
    {
      "cell_type": "code",
      "source": [
        "df = df.drop_duplicates(subset=\"body\").reset_index(drop=True)\n",
        "df = df[df['body'] != '[deleted]']\n",
        "df = df.dropna()\n",
        "df['subreddit'].value_counts()"
      ],
      "metadata": {
        "id": "mDC1xAy-OirP"
      },
      "execution_count": null,
      "outputs": []
    },
    {
      "cell_type": "code",
      "source": [
        "df = df[df['subreddit'] != 'aspergers']"
      ],
      "metadata": {
        "id": "jdL7KdZQPL2f"
      },
      "execution_count": null,
      "outputs": []
    },
    {
      "cell_type": "code",
      "source": [
        "df = df[df['body'].astype(str).apply(len).between(MIN_LENGTH, MAX_LENGTH)]\n",
        "df['subreddit'].value_counts()"
      ],
      "metadata": {
        "id": "7AVkRIr2T578"
      },
      "execution_count": null,
      "outputs": []
    },
    {
      "cell_type": "code",
      "source": [
        "df_hf = pd.DataFrame()\n",
        "\n",
        "for label in df['subreddit'].unique():\n",
        "  df_hf = pd.concat([df_hf, df[df['subreddit'] == label].sample(n=TARGET_PER_LABEL, random_state=42)])\n",
        "\n",
        "df_hf = df_hf.reset_index(drop=True)\n",
        ""
      ],
      "metadata": {
        "id": "WA4Cjr54bPEk"
      },
      "execution_count": null,
      "outputs": []
    },
    {
      "cell_type": "code",
      "source": [
        "df_hf['subreddit'].value_counts()"
      ],
      "metadata": {
        "id": "tpWr2824huNe"
      },
      "execution_count": null,
      "outputs": []
    },
    {
      "cell_type": "code",
      "source": [
        "subreddit_to_label = {\n",
        "    \"ADHD\" : \"ADHD\",\n",
        "    \"depression\" : \"Depression\",\n",
        "    \"OCD\" : \"OCD\",\n",
        "    \"ptsd\" : \"PTSD\"\n",
        "}\n",
        "\n",
        "df_hf['label'] = df_hf['subreddit'].map(subreddit_to_label)\n",
        "\n",
        "df_hf"
      ],
      "metadata": {
        "id": "9GV7X-65iaBM"
      },
      "execution_count": null,
      "outputs": []
    },
    {
      "cell_type": "code",
      "source": [
        "df_hf.to_csv('huggingFace_mental_health_dataset.csv', index=False)"
      ],
      "metadata": {
        "id": "zn-3yzEr5Fa7"
      },
      "execution_count": null,
      "outputs": []
    },
    {
      "cell_type": "code",
      "source": [
        "from google.colab import files\n",
        "files.download('huggingFace_mental_health_dataset.csv')"
      ],
      "metadata": {
        "id": "1xryNwjTAPLS"
      },
      "execution_count": null,
      "outputs": []
    }
  ]
}