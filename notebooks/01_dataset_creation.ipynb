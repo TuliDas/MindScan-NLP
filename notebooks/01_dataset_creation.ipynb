{
  "nbformat": 4,
  "nbformat_minor": 0,
  "metadata": {
    "colab": {
      "provenance": []
    },
    "kernelspec": {
      "name": "python3",
      "display_name": "Python 3"
    },
    "language_info": {
      "name": "python"
    }
  },
  "cells": [
    {
      "cell_type": "code",
      "source": [
        "!pip install praw\n",
        "!pip install asyncpraw\n",
        "!pip install langdetect"
      ],
      "metadata": {
        "id": "8XVrIGI6vtkm"
      },
      "execution_count": null,
      "outputs": []
    },
    {
      "cell_type": "code",
      "source": [
        "import pandas as pd\n",
        "from datasets import load_dataset\n",
        "\n",
        "import os\n",
        "import praw\n",
        "from time import sleep\n",
        "\n",
        "from langdetect import detect, DetectorFactory"
      ],
      "metadata": {
        "id": "ZcN8TA7ic3Ja"
      },
      "execution_count": null,
      "outputs": []
    },
    {
      "cell_type": "code",
      "source": [
        "# Parameters (For HuggingFace Dataset)\n",
        "TARGET_PER_LABEL = 2000\n",
        "MIN_LENGTH = 100             # ignore very short posts\n",
        "MAX_LENGTH = 800             # max characters per post"
      ],
      "metadata": {
        "id": "JUUEhMW-pSPr"
      },
      "execution_count": null,
      "outputs": []
    },
    {
      "cell_type": "markdown",
      "source": [
        "# Part 1: Dataset Collection (Hugging Face)\n",
        "\n",
        "**Dataset Source:** [reddit_mental_health_posts](https://huggingface.co/datasets/solomonk/reddit_mental_health_posts/viewer/default/train?f%5Bsubreddit%5D%5Bvalue%5D=%27aspergers%27&views%5B%5D=train)\n",
        "\n",
        "For this project, we will curate a balanced subset of **2,000 posts** across the following 4 mental health categories:\n",
        "\n",
        "1. **PTSD (Post-Traumatic Stress Disorder)**\n",
        "2. **OCD (Obsessive–Compulsive Disorder)**\n",
        "3. **ADHD (Attention-Deficit/Hyperactivity Disorder)**\n",
        "4. **Depression**"
      ],
      "metadata": {
        "id": "PVG9FOIglC40"
      }
    },
    {
      "cell_type": "code",
      "execution_count": null,
      "metadata": {
        "id": "eAMFqFaSLkgu"
      },
      "outputs": [],
      "source": [
        "data_hf = load_dataset(\"solomonk/reddit_mental_health_posts\")"
      ]
    },
    {
      "cell_type": "code",
      "source": [
        "data_hf"
      ],
      "metadata": {
        "id": "dSkNin6aML0u"
      },
      "execution_count": null,
      "outputs": []
    },
    {
      "cell_type": "code",
      "source": [
        "df = data_hf['train'].to_pandas()\n",
        "df"
      ],
      "metadata": {
        "id": "mUuZzECjNR52"
      },
      "execution_count": null,
      "outputs": []
    },
    {
      "cell_type": "code",
      "source": [
        "df = df.rename(columns = {\"id\" : \"post_id\"})\n",
        "df = df[['post_id', 'subreddit', 'title', 'body']]\n",
        "df"
      ],
      "metadata": {
        "id": "S2VdpZJ4N6cm"
      },
      "execution_count": null,
      "outputs": []
    },
    {
      "cell_type": "code",
      "source": [
        "df = df.drop_duplicates(subset=\"body\").reset_index(drop=True)\n",
        "df = df[df['body'] != '[deleted]']\n",
        "df = df.dropna()\n",
        "df['subreddit'].value_counts()"
      ],
      "metadata": {
        "id": "mDC1xAy-OirP"
      },
      "execution_count": null,
      "outputs": []
    },
    {
      "cell_type": "code",
      "source": [
        "df = df[df['subreddit'] != 'aspergers']"
      ],
      "metadata": {
        "id": "jdL7KdZQPL2f"
      },
      "execution_count": null,
      "outputs": []
    },
    {
      "cell_type": "code",
      "source": [
        "df = df[df['body'].astype(str).apply(len).between(MIN_LENGTH, MAX_LENGTH)]\n",
        "df['subreddit'].value_counts()"
      ],
      "metadata": {
        "id": "7AVkRIr2T578"
      },
      "execution_count": null,
      "outputs": []
    },
    {
      "cell_type": "code",
      "source": [
        "df_hf = pd.DataFrame()\n",
        "\n",
        "for label in df['subreddit'].unique():\n",
        "  df_hf = pd.concat([df_hf, df[df['subreddit'] == label].sample(n=TARGET_PER_LABEL, random_state=42)])\n",
        "\n",
        "df_hf = df_hf.reset_index(drop=True)\n"
      ],
      "metadata": {
        "id": "WA4Cjr54bPEk"
      },
      "execution_count": null,
      "outputs": []
    },
    {
      "cell_type": "code",
      "source": [
        "df_hf['subreddit'].value_counts()"
      ],
      "metadata": {
        "id": "tpWr2824huNe"
      },
      "execution_count": null,
      "outputs": []
    },
    {
      "cell_type": "code",
      "source": [
        "subreddit_to_label = {\n",
        "    \"ADHD\" : \"ADHD\",\n",
        "    \"depression\" : \"Depression\",\n",
        "    \"OCD\" : \"OCD\",\n",
        "    \"ptsd\" : \"PTSD\"\n",
        "}\n",
        "\n",
        "df_hf['label'] = df_hf['subreddit'].map(subreddit_to_label)\n",
        "\n",
        "df_hf"
      ],
      "metadata": {
        "id": "9GV7X-65iaBM"
      },
      "execution_count": null,
      "outputs": []
    },
    {
      "cell_type": "code",
      "source": [
        "df_hf.to_csv('huggingFace_mental_health_dataset.csv', index=False)"
      ],
      "metadata": {
        "id": "zn-3yzEr5Fa7"
      },
      "execution_count": null,
      "outputs": []
    },
    {
      "cell_type": "code",
      "source": [
        "from google.colab import files\n",
        "files.download('huggingFace_mental_health_dataset.csv')"
      ],
      "metadata": {
        "id": "1xryNwjTAPLS"
      },
      "execution_count": null,
      "outputs": []
    },
    {
      "cell_type": "markdown",
      "source": [
        "# Part 2: Collecting Posts from Reddit  \n",
        "\n",
        "In this stage, we will gather posts corresponding to **4 additional categories** to broaden the dataset:  \n",
        "\n",
        "1. **Anxiety**  \n",
        "2. **Addiction**  \n",
        "3. **Suicidal Ideation**  \n",
        "4. **Normal (Control Group)**"
      ],
      "metadata": {
        "id": "xR2T0tQUwGcz"
      }
    },
    {
      "cell_type": "code",
      "source": [
        "# Parameters (for Reddit posts)\n",
        "TARGET_PER_LABEL = 2200\n",
        "MAX_LENGTH = 800             # max characters per post\n",
        "SLEEP_TIME = 0.2             # seconds between requests to avoid rate limit\n",
        "DetectorFactory.seed = 0  # for consistent results"
      ],
      "metadata": {
        "id": "E8dTzwGLwhvc"
      },
      "execution_count": null,
      "outputs": []
    },
    {
      "cell_type": "code",
      "source": [
        "df_hf = pd.read_csv('/content/huggingFace_mental_health_dataset.csv')\n",
        "save_file = \"reddit_mental_health_dataset.csv\"\n",
        "\n",
        "if os.path.exists(save_file):\n",
        "    df_existing = pd.read_csv(save_file)\n",
        "    data_reddit = df_existing.to_dict(\"records\") + df_hf.to_dict(\"records\")\n",
        "    seen_texts = set(df_existing[\"body\"].tolist()) | set(df_hf[\"body\"].tolist())  # avoid duplicates\n",
        "    print(f\"🔄 Resuming... already have {len(df_existing)} posts\")\n",
        "else:\n",
        "    data_reddit = df_hf.to_dict(\"records\")\n",
        "    seen_texts = set(df_hf[\"body\"].tolist())"
      ],
      "metadata": {
        "id": "3CE11OmDwnE3"
      },
      "execution_count": null,
      "outputs": []
    },
    {
      "cell_type": "code",
      "source": [
        "# 1. Setup Reddit API\n",
        "reddit = praw.Reddit(client_id=\"YOUR_CLIENT_ID\",\n",
        "                     client_secret=\"YOUR_CLIENT_SECRET\",\n",
        "                     user_agent=\"YOUR_USER_AGENT\")"
      ],
      "metadata": {
        "id": "RwN93FKIwsN2"
      },
      "execution_count": null,
      "outputs": []
    },
    {
      "cell_type": "code",
      "source": [
        "# 2. Define rest of subreddits\n",
        "\n",
        "mental_subreddits = {\n",
        "    \"Anxiety\": {\n",
        "        \"sub_list\": [\"anxiety\", \"socialanxiety\", \"PanicAttack\", \"HealthAnxiety\"],\n",
        "        \"MIN_LENGTH\": 80\n",
        "    },\n",
        "    \"Suicidal\": {\n",
        "        \"sub_list\": [\"SuicideWatch\", \"Suicidal_Thoughts\", \"SuicideBereavement\"],\n",
        "        \"MIN_LENGTH\": 50\n",
        "    },\n",
        "    \"Addiction\": {\n",
        "        \"sub_list\": [\"StopSmoking\", \"addiction\", \"StopDrinking\", \"stopgaming\"],\n",
        "        \"MIN_LENGTH\": 80\n",
        "    },\n",
        "    \"Normal\": {\n",
        "        \"sub_list\": [\"happy\", \"CasualConversation\", \"wholesomememes\", \"LifeProTips\"],\n",
        "        \"MIN_LENGTH\": 50\n",
        "    }\n",
        "}"
      ],
      "metadata": {
        "id": "jkoA7Q_nwvjX"
      },
      "execution_count": null,
      "outputs": []
    },
    {
      "cell_type": "code",
      "source": [
        "def is_english(text):\n",
        "    try:\n",
        "        return detect(text) == \"en\"\n",
        "    except:\n",
        "        return False"
      ],
      "metadata": {
        "id": "sVjU45jdwygF"
      },
      "execution_count": null,
      "outputs": []
    },
    {
      "cell_type": "code",
      "source": [
        "def fetch_posts_for_label(label, subreddits, MIN_LENGTH):\n",
        "\n",
        "    for subreddit_name in subreddits:\n",
        "        try:\n",
        "            subreddit = reddit.subreddit(subreddit_name)\n",
        "            print(f\"\\nFetching '{label}' posts from r/{subreddit_name}...\")\n",
        "\n",
        "            for post in subreddit.new(limit=None):\n",
        "                title = post.title.strip()\n",
        "                body = post.selftext.strip()\n",
        "\n",
        "                if len(body) < MIN_LENGTH or len(body) > MAX_LENGTH or body in seen_texts:\n",
        "                    continue\n",
        "                if not is_english(body):\n",
        "                    continue\n",
        "\n",
        "                seen_texts.add(body)\n",
        "\n",
        "                data_reddit.append({\n",
        "                    \"post_id\": post.id,\n",
        "                    \"subreddit\": subreddit_name,\n",
        "                    \"title\": title,\n",
        "                    \"body\": body,\n",
        "                    \"label\": label\n",
        "                })\n",
        "\n",
        "                sleep(SLEEP_TIME)\n",
        "\n",
        "            # Save after each subreddit\n",
        "            df_reddit = pd.DataFrame(data_reddit)\n",
        "            df_reddit.to_csv(save_file, index=False)\n",
        "            print(f\" Progress saved: {len(df_reddit)} posts so far\")\n",
        "\n",
        "            current_label_count = sum(1 for d in data_reddit if d[\"label\"] == label)\n",
        "            if current_label_count >= TARGET_PER_LABEL:\n",
        "              return\n",
        "\n",
        "        except Exception as e:\n",
        "            print(f\" Could not fetch from r/{subreddit_name}: {e}\")\n"
      ],
      "metadata": {
        "id": "JShuJlB5w0y9"
      },
      "execution_count": null,
      "outputs": []
    },
    {
      "cell_type": "code",
      "source": [
        "# fetch call\n",
        "for label, subreddits in mental_subreddits.items():\n",
        "    fetch_posts_for_label(label, subreddits[\"sub_list\"], subreddits[\"MIN_LENGTH\"])\n"
      ],
      "metadata": {
        "id": "mpHQofbFw5pr"
      },
      "execution_count": null,
      "outputs": []
    },
    {
      "cell_type": "code",
      "source": [
        "df_reddit = pd.DataFrame(data_reddit)\n",
        "df_reddit = df_reddit.drop_duplicates(subset=\"body\").reset_index(drop=True)\n",
        "df_reddit['label'].value_counts()"
      ],
      "metadata": {
        "id": "-34CaxMuw--h"
      },
      "execution_count": null,
      "outputs": []
    },
    {
      "cell_type": "code",
      "source": [
        "BALANCE_SIZE = 2000\n",
        "\n",
        "balanced_df = (\n",
        "    df_reddit\n",
        "    .groupby(\"label\", group_keys=False)   # group by label\n",
        "    .apply(lambda x: x.sample(n=min(BALANCE_SIZE, len(x)), random_state=42))  # sample within each class\n",
        "    .reset_index(drop=True)\n",
        ")\n",
        "\n",
        "balanced_df[\"label\"].value_counts()"
      ],
      "metadata": {
        "id": "i9_lVYlpxCyT"
      },
      "execution_count": null,
      "outputs": []
    },
    {
      "cell_type": "code",
      "source": [
        "from google.colab import files\n",
        "balanced_df.to_csv(save_file, index=False)\n",
        "files.download(save_file)"
      ],
      "metadata": {
        "id": "JTKHggCUxJKH"
      },
      "execution_count": null,
      "outputs": []
    },
    {
      "cell_type": "markdown",
      "source": [
        "# Part 3: Dataset Creation for GitHub Repository  \n",
        "\n",
        "- **Post IDs will be removed** to avoid any privacy issues.  \n",
        "- Only essential columns (e.g., title, subreddit, body, label) will be retained.  \n"
      ],
      "metadata": {
        "id": "FKb5uArHxMRw"
      }
    },
    {
      "cell_type": "code",
      "source": [
        "df = pd.read_csv('/content/reddit_mental_health_dataset.csv')"
      ],
      "metadata": {
        "id": "0LTbtrS0xSU_"
      },
      "execution_count": null,
      "outputs": []
    },
    {
      "cell_type": "code",
      "source": [
        "df = df.drop(columns=['post_id'])\n",
        "df.to_csv('reddit_mental_health_dataset.csv', index=False)"
      ],
      "metadata": {
        "id": "rW3MNDVFQJ_8"
      },
      "execution_count": null,
      "outputs": []
    }
  ]
}